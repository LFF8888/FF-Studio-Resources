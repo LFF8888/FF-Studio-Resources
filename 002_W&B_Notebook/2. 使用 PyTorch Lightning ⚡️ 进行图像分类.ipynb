{
  "cells": [
    {
      "cell_type": "markdown",
      "metadata": {
        "id": "R3DlI04nJWBJ"
      },
      "source": [
        "<img src=\"https://wandb.me/logo-im-png\" width=\"400\" alt=\"Weights & Biases\" />\n",
        "\n",
        "<!--- @wandbcode{pytorch-lightning-image-classification-colab} -->"
      ]
    },
    {
      "cell_type": "markdown",
      "metadata": {
        "id": "LvCPHSS5JWBJ"
      },
      "source": [
        "\n",
        "# 使用 PyTorch Lightning ⚡️ 进行图像分类\n",
        "\n",
        "我们将使用 PyTorch Lightning 构建一个图像分类管道。我们将遵循这个 [风格指南](https://lightning.ai/docs/pytorch/stable/starter/style_guide.html) 来提高代码的可读性和可重复性。这里有一个很酷的解释：[使用 PyTorch Lightning 进行图像分类](https://wandb.ai/wandb/wandb-lightning/reports/Image-Classification-using-PyTorch-Lightning--VmlldzoyODk1NzY)。"
      ]
    },
    {
      "cell_type": "markdown",
      "metadata": {
        "id": "7vzanw34JWBK"
      },
      "source": [
        "## 设置 PyTorch Lightning 和 W&B\n",
        "\n",
        "对于本教程，我们需要 PyTorch Lightning（这不是很明显吗！）和 Weights and Biases。"
      ]
    },
    {
      "cell_type": "code",
      "execution_count": null,
      "metadata": {
        "id": "i3GJHc17JWBK"
      },
      "outputs": [],
      "source": [
        "!pip install lightning torchvision -q\n",
        "# 安装 weights and biases\n",
        "!pip install wandb -qU"
      ]
    },
    {
      "cell_type": "markdown",
      "metadata": {
        "id": "4esw50JZJWBK"
      },
      "source": [
        "你需要这些导入。"
      ]
    },
    {
      "cell_type": "code",
      "execution_count": null,
      "metadata": {
        "id": "4GG5OLoFJWBL"
      },
      "outputs": [],
      "source": [
        "import lightning.pytorch as pl\n",
        "# 你最喜欢的机器学习跟踪工具\n",
        "from lightning.pytorch.loggers import WandbLogger\n",
        "\n",
        "import torch\n",
        "from torch import nn\n",
        "from torch.nn import functional as F\n",
        "from torch.utils.data import random_split, DataLoader\n",
        "\n",
        "from torchmetrics import Accuracy\n",
        "\n",
        "from torchvision import transforms\n",
        "from torchvision.datasets import CIFAR10\n",
        "\n",
        "import wandb"
      ]
    },
    {
      "cell_type": "markdown",
      "metadata": {
        "id": "uOII1Ii6JWBL"
      },
      "source": [
        "现在你需要登录到你的 wandb 账户。"
      ]
    },
    {
      "cell_type": "code",
      "execution_count": null,
      "metadata": {
        "id": "1UenW82qJWBL"
      },
      "outputs": [],
      "source": [
        "wandb.login()"
      ]
    },
    {
      "cell_type": "markdown",
      "metadata": {
        "id": "2oXtqLoFJWBM"
      },
      "source": [
        "## 🔧 DataModule - 我们应得的数据管道\n",
        "\n",
        "DataModules 是一种将数据相关的钩子与 LightningModule 解耦的方式，以便你可以开发与数据集无关的模型。\n",
        "\n",
        "它将数据管道组织成一个可共享和可重用的类。一个 datamodule 封装了 PyTorch 中数据处理的五个步骤：\n",
        "- 下载 / 分词 / 处理。\n",
        "- 清理并（可能）保存到磁盘。\n",
        "- 加载到 Dataset 中。\n",
        "- 应用转换（旋转、分词等）。\n",
        "- 包装到 DataLoader 中。\n",
        "\n",
        "了解更多关于 datamodules 的信息 [这里](https://lightning.ai/docs/pytorch/stable/data/datamodule.html)。让我们为 Cifar-10 数据集构建一个 datamodule。"
      ]
    },
    {
      "cell_type": "code",
      "execution_count": null,
      "metadata": {
        "id": "-s-ndiweJWBM"
      },
      "outputs": [],
      "source": [
        "class CIFAR10DataModule(pl.LightningDataModule):\n",
        "    def __init__(self, batch_size, data_dir: str = './'):\n",
        "        super().__init__()\n",
        "        self.data_dir = data_dir\n",
        "        self.batch_size = batch_size\n",
        "\n",
        "        self.transform = transforms.Compose([\n",
        "            transforms.ToTensor(),\n",
        "            transforms.Normalize((0.5, 0.5, 0.5), (0.5, 0.5, 0.5))\n",
        "        ])\n",
        "\n",
        "        self.num_classes = 10\n",
        "\n",
        "    def prepare_data(self):\n",
        "        # 下载训练和测试数据集\n",
        "        CIFAR10(self.data_dir, train=True, download=True)\n",
        "        CIFAR10(self.data_dir, train=False, download=True)\n",
        "\n",
        "    def setup(self, stage=None):\n",
        "        # 为 dataloaders 分配训练/验证数据集\n",
        "        if stage == 'fit' or stage is None:\n",
        "            cifar_full = CIFAR10(self.data_dir, train=True, transform=self.transform)\n",
        "            self.cifar_train, self.cifar_val = random_split(cifar_full, [45000, 5000])\n",
        "\n",
        "        # 为 dataloader(s) 分配测试数据集\n",
        "        if stage == 'test' or stage is None:\n",
        "            self.cifar_test = CIFAR10(self.data_dir, train=False, transform=self.transform)\n",
        "\n",
        "    def train_dataloader(self):\n",
        "        # 返回训练数据的 DataLoader\n",
        "        return DataLoader(self.cifar_train, batch_size=self.batch_size, shuffle=True)\n",
        "\n",
        "    def val_dataloader(self):\n",
        "        # 返回验证数据的 DataLoader\n",
        "        return DataLoader(self.cifar_val, batch_size=self.batch_size)\n",
        "\n",
        "    def test_dataloader(self):\n",
        "        # 返回测试数据的 DataLoader\n",
        "        return DataLoader(self.cifar_test, batch_size=self.batch_size)"
      ]
    },
    {
      "cell_type": "markdown",
      "metadata": {
        "id": "k3V1qveUJWBM"
      },
      "source": [
        "## 📱 Callbacks\n",
        "\n",
        "回调是一个独立的程序，可以在项目之间重用。PyTorch Lightning 提供了一些 [内置回调](https://lightning.ai/docs/pytorch/latest/extensions/callbacks.html#built-in-callbacks)，这些回调经常被使用。\n",
        "了解更多关于 PyTorch Lightning 中的回调 [这里](https://lightning.ai/docs/pytorch/latest/extensions/callbacks.html)。"
      ]
    },
    {
      "cell_type": "markdown",
      "metadata": {
        "id": "tVoppAyIJWBM"
      },
      "source": [
        "### 内置回调\n",
        "\n",
        "在本教程中，我们将使用 [Early Stopping](https://lightning.ai/docs/pytorch/latest/api/lightning.pytorch.callbacks.EarlyStopping.html#lightning.callbacks.EarlyStopping) 和 [Model Checkpoint](https://lightning.ai/docs/pytorch/latest/api/lightning.pytorch.callbacks.ModelCheckpoint.html#pytorch_lightning.callbacks.ModelCheckpoint) 内置回调。它们可以传递给 `Trainer`。"
      ]
    },
    {
      "cell_type": "markdown",
      "metadata": {
        "id": "NLe2rpXfJWBM"
      },
      "source": [
        "### 自定义回调\n",
        "如果你熟悉自定义 Keras 回调，那么在 PyTorch 管道中实现相同功能的能力只是锦上添花。\n",
        "\n",
        "由于我们正在进行图像分类，能够可视化模型对一些样本图像的预测可能很有帮助。这种形式的回调可以帮助在早期阶段调试模型。"
      ]
    },
    {
      "cell_type": "code",
      "execution_count": null,
      "metadata": {
        "id": "PLarmSrMJWBM"
      },
      "outputs": [],
      "source": [
        "class ImagePredictionLogger(pl.callbacks.Callback):\n",
        "    def __init__(self, val_samples, num_samples=32):\n",
        "        super().__init__()\n",
        "        self.num_samples = num_samples\n",
        "        self.val_imgs, self.val_labels = val_samples\n",
        "\n",
        "    def on_validation_epoch_end(self, trainer, pl_module):\n",
        "        # 将张量带到 CPU\n",
        "        val_imgs = self.val_imgs.to(device=pl_module.device)\n",
        "        val_labels = self.val_labels.to(device=pl_module.device)\n",
        "        # 获取模型预测\n",
        "        logits = pl_module(val_imgs)\n",
        "        preds = torch.argmax(logits, -1)\n",
        "        # 将图像记录为 wandb Image\n",
        "        trainer.logger.experiment.log({\n",
        "            \"examples\":[wandb.Image(x, caption=f\"Pred:{pred}, Label:{y}\")\n",
        "                           for x, pred, y in zip(val_imgs[:self.num_samples],\n",
        "                                                 preds[:self.num_samples],\n",
        "                                                 val_labels[:self.num_samples])]\n",
        "            })\n"
      ]
    },
    {
      "cell_type": "markdown",
      "metadata": {
        "id": "ggjYFSpvJWBM"
      },
      "source": [
        "## 🎺 LightningModule - 定义系统\n",
        "\n",
        "LightningModule 定义了一个系统，而不是一个模型。在这里，系统将所有研究代码分组到一个类中，使其自包含。`LightningModule` 将你的 PyTorch 代码组织成 5 个部分：\n",
        "- 计算 (`__init__`)。\n",
        "- 训练循环 (`training_step`)\n",
        "- 验证循环 (`validation_step`)\n",
        "- 测试循环 (`test_step`)\n",
        "- 优化器 (`configure_optimizers`)\n",
        "\n",
        "因此，可以构建一个与数据集无关的模型，并且可以轻松共享。让我们为 Cifar-10 分类构建一个系统。"
      ]
    },
    {
      "cell_type": "code",
      "execution_count": null,
      "metadata": {
        "id": "6Q4ybw7IJWBN"
      },
      "outputs": [],
      "source": [
        "class LitModel(pl.LightningModule):\n",
        "    def __init__(self, input_shape, num_classes, learning_rate=2e-4):\n",
        "        super().__init__()\n",
        "\n",
        "        # 记录超参数\n",
        "        self.save_hyperparameters()\n",
        "        self.learning_rate = learning_rate\n",
        "\n",
        "        self.conv1 = nn.Conv2d(3, 32, 3, 1)\n",
        "        self.conv2 = nn.Conv2d(32, 32, 3, 1)\n",
        "        self.conv3 = nn.Conv2d(32, 64, 3, 1)\n",
        "        self.conv4 = nn.Conv2d(64, 64, 3, 1)\n",
        "\n",
        "        self.pool1 = torch.nn.MaxPool2d(2)\n",
        "        self.pool2 = torch.nn.MaxPool2d(2)\n",
        "\n",
        "        n_sizes = self._get_conv_output(input_shape)\n",
        "\n",
        "        self.fc1 = nn.Linear(n_sizes, 512)\n",
        "        self.fc2 = nn.Linear(512, 128)\n",
        "        self.fc3 = nn.Linear(128, num_classes)\n",
        "\n",
        "        self.accuracy = Accuracy(task=\"multiclass\", num_classes=num_classes)\n",
        "\n",
        "    # 返回从卷积块进入线性层的输出张量的大小。\n",
        "    def _get_conv_output(self, shape):\n",
        "        batch_size = 1\n",
        "        input = torch.autograd.Variable(torch.rand(batch_size, *shape))\n",
        "\n",
        "        output_feat = self._forward_features(input)\n",
        "        n_size = output_feat.data.view(batch_size, -1).size(1)\n",
        "        return n_size\n",
        "\n",
        "    # 返回卷积块的特征张量\n",
        "    def _forward_features(self, x):\n",
        "        x = F.relu(self.conv1(x))\n",
        "        x = self.pool1(F.relu(self.conv2(x)))\n",
        "        x = F.relu(self.conv3(x))\n",
        "        x = self.pool2(F.relu(self.conv4(x)))\n",
        "        return x\n",
        "\n",
        "    # 将在推理期间使用\n",
        "    def forward(self, x):\n",
        "       x = self._forward_features(x)\n",
        "       x = x.view(x.size(0), -1)\n",
        "       x = F.relu(self.fc1(x))\n",
        "       x = F.relu(self.fc2(x))\n",
        "       x = F.log_softmax(self.fc3(x), dim=1)\n",
        "\n",
        "       return x\n",
        "\n",
        "    def training_step(self, batch, batch_idx):\n",
        "        x, y = batch\n",
        "        logits = self(x)\n",
        "        loss = F.nll_loss(logits, y)\n",
        "\n",
        "        # 训练指标\n",
        "        preds = torch.argmax(logits, dim=1)\n",
        "        acc = self.accuracy(preds, y)\n",
        "        self.log('train_loss', loss, on_step=True, on_epoch=True, logger=True)\n",
        "        self.log('train_acc', acc, on_step=True, on_epoch=True, logger=True)\n",
        "\n",
        "        return loss\n",
        "\n",
        "    def validation_step(self, batch, batch_idx):\n",
        "        x, y = batch\n",
        "        logits = self(x)\n",
        "        loss = F.nll_loss(logits, y)\n",
        "\n",
        "        # 验证指标\n",
        "        preds = torch.argmax(logits, dim=1)\n",
        "        acc = self.accuracy(preds, y)\n",
        "        self.log('val_loss', loss, prog_bar=True)\n",
        "        self.log('val_acc', acc, prog_bar=True)\n",
        "        return loss\n",
        "\n",
        "    def test_step(self, batch, batch_idx):\n",
        "        x, y = batch\n",
        "        logits = self(x)\n",
        "        loss = F.nll_loss(logits, y)\n",
        "\n",
        "        # 验证指标\n",
        "        preds = torch.argmax(logits, dim=1)\n",
        "        acc = self.accuracy(preds, y)\n",
        "        self.log('test_loss', loss, prog_bar=True)\n",
        "        self.log('test_acc', acc, prog_bar=True)\n",
        "        return loss\n",
        "\n",
        "    def configure_optimizers(self):\n",
        "        # 配置优化器\n",
        "        optimizer = torch.optim.Adam(self.parameters(), lr=self.learning_rate)\n",
        "        return optimizer\n"
      ]
    },
    {
      "cell_type": "markdown",
      "metadata": {
        "id": "IXBrp-mrJWBN"
      },
      "source": [
        "## 🚋 训练和评估\n",
        "\n",
        "现在我们已经使用 `DataModule` 组织了数据管道，并使用 `LightningModule` 组织了模型架构和训练循环，PyTorch Lightning `Trainer` 为我们自动化了其他所有内容。\n",
        "\n",
        "Trainer 自动化了以下内容：\n",
        "- Epoch 和 batch 迭代\n",
        "- 调用 `optimizer.step()`、`backward`、`zero_grad()`\n",
        "- 调用 `.eval()`，启用/禁用梯度\n",
        "- 保存和加载权重\n",
        "- Weights and Biases 日志记录\n",
        "- 多 GPU 训练支持\n",
        "- TPU 支持\n",
        "- 16 位训练支持"
      ]
    },
    {
      "cell_type": "code",
      "execution_count": null,
      "metadata": {
        "id": "xufWXyXnJWBN"
      },
      "outputs": [],
      "source": [
        "dm = CIFAR10DataModule(batch_size=32)\n",
        "# 要访问 x_dataloader，我们需要调用 prepare_data 和 setup。\n",
        "dm.prepare_data()\n",
        "dm.setup()\n",
        "\n",
        "# 自定义 ImagePredictionLogger 回调所需的样本，用于记录图像预测。\n",
        "val_samples = next(iter(dm.val_dataloader()))\n",
        "val_imgs, val_labels = val_samples[0], val_samples[1]\n",
        "val_imgs.shape, val_labels.shape"
      ]
    },
    {
      "cell_type": "code",
      "execution_count": null,
      "metadata": {
        "id": "qJr3lFajJWBN"
      },
      "outputs": [],
      "source": [
        "model = LitModel((3, 32, 32), dm.num_classes)\n",
        "\n",
        "# 初始化 wandb logger\n",
        "wandb_logger = WandbLogger(project='wandb-lightning', job_type='train')\n",
        "\n",
        "# 初始化 Callbacks\n",
        "early_stop_callback = pl.callbacks.EarlyStopping(monitor=\"val_loss\")\n",
        "checkpoint_callback = pl.callbacks.ModelCheckpoint()\n",
        "\n",
        "# 初始化一个 trainer\n",
        "trainer = pl.Trainer(max_epochs=2,\n",
        "                     logger=wandb_logger,\n",
        "                     callbacks=[early_stop_callback,\n",
        "                                ImagePredictionLogger(val_samples),\n",
        "                                checkpoint_callback],\n",
        "                     )\n",
        "\n",
        "# 训练模型 ⚡🚅⚡\n",
        "trainer.fit(model, dm)\n",
        "\n",
        "# 在保留的测试集上评估模型 ⚡⚡\n",
        "trainer.test(dataloaders=dm.test_dataloader())\n",
        "\n",
        "# 关闭 wandb run\n",
        "wandb.finish()"
      ]
    },
    {
      "cell_type": "markdown",
      "metadata": {
        "id": "mGjjRwYqJWBN"
      },
      "source": [
        "## 最终想法\n",
        "我来自 TensorFlow/Keras 生态系统，发现 PyTorch 虽然是一个优雅的框架，但有点让人不知所措。这只是我的个人经验。在探索 PyTorch Lightning 时，我意识到几乎所有让我远离 PyTorch 的原因都得到了解决。以下是我兴奋的快速总结：\n",
        "- 过去：传统的 PyTorch 模型定义通常分散在各个地方。模型在某个 `model.py` 脚本中，训练循环在 `train.py` 文件中。需要来回查看才能理解管道。\n",
        "- 现在：`LightningModule` 作为一个系统，模型定义与 `training_step`、`validation_step` 等一起定义。现在它是模块化的且可共享的。\n",
        "- 过去：TensorFlow/Keras 最棒的部分是输入数据管道。他们的数据集目录丰富且不断增长。PyTorch 的数据管道曾经是最大的痛点。在普通的 PyTorch 代码中，数据下载/清理/准备通常分散在许多文件中。\n",
        "- 现在：DataModule 将数据管道组织成一个可共享和可重用的类。它只是 `train_dataloader`、`val_dataloader`(s)、`test_dataloader`(s) 以及匹配的转换和数据处理/下载步骤的集合。\n",
        "- 过去：使用 Keras，可以调用 `model.fit` 来训练模型，调用 `model.predict` 来运行推理。`model.evaluate` 提供了一个简单而有效的测试数据评估。这在 PyTorch 中不是这样。通常会找到单独的 `train.py` 和 `test.py` 文件。\n",
        "- 现在：有了 `LightningModule`，`Trainer` 自动化了一切。只需调用 `trainer.fit` 和 `trainer.test` 来训练和评估模型。\n",
        "- 过去：TensorFlow 喜欢 TPU，PyTorch...嗯！\n",
        "- 现在：使用 PyTorch Lightning，可以轻松地在多个 GPU 上训练相同的模型，甚至在 TPU 上。哇！\n",
        "- 过去：我是回调的忠实粉丝，更喜欢编写自定义回调。像 Early Stopping 这样简单的事情曾经是传统 PyTorch 的讨论点。\n",
        "- 现在：使用 PyTorch Lightning，使用 Early Stopping 和 Model Checkpointing 是小菜一碟。我甚至可以编写自定义回调。"
      ]
    },
    {
      "cell_type": "markdown",
      "metadata": {
        "id": "dLIfDMR3JWBN"
      },
      "source": [
        "## 🎨 结论和资源\n",
        "\n",
        "我希望你觉得这份报告有帮助。我鼓励你玩一下代码，并使用你选择的数据集训练一个图像分类器。\n",
        "\n",
        "以下是一些学习更多关于 PyTorch Lightning 的资源：\n",
        "- [逐步演练](https://lightning.ai/docs/pytorch/latest/starter/introduction.html) - 这是官方教程之一。他们的文档写得非常好，我强烈推荐它作为学习资源。\n",
        "- [使用 PyTorch Lightning 与 Weights & Biases](https://wandb.me/lightning) - 这是一个快速 colab，你可以通过它学习如何使用 W&B 与 PyTorch Lightning。"
      ]
    }
  ],
  "metadata": {
    "accelerator": "GPU",
    "colab": {
      "provenance": [],
      "toc_visible": true
    },
    "kernelspec": {
      "display_name": "Python 3",
      "name": "python3"
    }
  },
  "nbformat": 4,
  "nbformat_minor": 0
}
