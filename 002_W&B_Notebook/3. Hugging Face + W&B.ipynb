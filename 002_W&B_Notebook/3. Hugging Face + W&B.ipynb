{
  "cells": [
    {
      "cell_type": "markdown",
      "metadata": {
        "id": "dkEETZTi9oYi"
      },
      "source": [
        "# Hugging Face + W&B\n",
        "通过无缝的 [W&B](https://wandb.ai/site) 集成，快速可视化你的 [Hugging Face](https://github.com/huggingface/transformers) 模型性能。\n",
        "\n",
        "比较超参数、输出指标以及系统统计数据，如 GPU 利用率。\n"
      ]
    },
    {
      "cell_type": "markdown",
      "metadata": {
        "id": "aI0TCBj39oYi"
      },
      "source": [
        "<img src=\"https://i.imgur.com/vnejHGh.png\" width=\"800\">\n",
        "\n",
        "<!--- @wandbcode{huggingface_wandb} -->"
      ]
    },
    {
      "cell_type": "markdown",
      "metadata": {
        "id": "WctDpOrR9oYi"
      },
      "source": [
        "\n",
        "## 🤔 为什么我应该使用 W&B？\n",
        "\n",
        "<img src=\"https://wandb.me/mini-diagram\" width=\"650\">\n",
        "\n",
        "- **统一仪表盘**：所有模型指标和预测的中央存储库\n",
        "- **轻量级**：无需代码更改即可与 Hugging Face 集成\n",
        "- **可访问**：个人和学术团队免费使用\n",
        "- **安全**：所有项目默认私有\n",
        "- **可信**：被 OpenAI、Toyota、Lyft 等机器学习团队使用\n",
        "\n",
        "将 W&B 视为机器学习模型的 GitHub——将机器学习实验保存到你的私有托管仪表盘。快速实验，确保所有模型版本都已保存，无论你在哪里运行脚本。\n",
        "\n",
        "W&B 的轻量级集成适用于任何 Python 脚本，你只需注册一个免费的 W&B 账户即可开始跟踪和可视化你的模型。"
      ]
    },
    {
      "cell_type": "markdown",
      "metadata": {
        "id": "8xpfp6FF9oYj"
      },
      "source": [
        "\n",
        "在 Hugging Face Transformers 仓库中，我们已将 Trainer 配置为在每个日志步骤自动将训练和评估指标记录到 W&B。\n",
        "\n",
        "以下是集成工作原理的深入分析：[Hugging Face + W&B 报告](https://app.wandb.ai/jxmorris12/huggingface-demo/reports/Train-a-model-with-Hugging-Face-and-Weights-%26-Biases--VmlldzoxMDE2MTU)。"
      ]
    },
    {
      "cell_type": "markdown",
      "metadata": {
        "id": "smvABiH59oYj"
      },
      "source": [
        "# 🚀 安装、导入和登录\n"
      ]
    },
    {
      "cell_type": "markdown",
      "metadata": {
        "id": "c55HDz4g9oYj"
      },
      "source": [
        "\n",
        "安装 Hugging Face 和 Weights & Biases 库，以及本教程的 GLUE 数据集和训练脚本。\n",
        "- [Hugging Face Transformers](https://github.com/huggingface/transformers)：自然语言模型和数据集\n",
        "- [Weights & Biases](https://docs.wandb.com/)：实验跟踪和可视化\n",
        "- [GLUE 数据集](https://gluebenchmark.com/)：语言理解基准数据集\n",
        "- [GLUE 脚本](https://github.com/huggingface/transformers/blob/master/examples/run_glue.py)：用于序列分类的模型训练脚本"
      ]
    },
    {
      "cell_type": "code",
      "execution_count": null,
      "metadata": {
        "id": "ieklbQ1X9oYj"
      },
      "outputs": [],
      "source": [
        "!pip install datasets wandb evaluate accelerate -qU\n",
        "!wget https://raw.githubusercontent.com/huggingface/transformers/master/examples/pytorch/text-classification/run_glue.py"
      ]
    },
    {
      "cell_type": "code",
      "execution_count": null,
      "metadata": {
        "id": "VUv_St1R9oYj"
      },
      "outputs": [],
      "source": [
        "# run_glue.py 脚本需要 transformers dev 版本\n",
        "!pip install -q git+https://github.com/huggingface/transformers"
      ]
    },
    {
      "cell_type": "markdown",
      "metadata": {
        "id": "FdyGcjdK9oYk"
      },
      "source": [
        "## 🖊️ [注册免费账户 →](https://app.wandb.ai/login?signup=true)"
      ]
    },
    {
      "cell_type": "markdown",
      "metadata": {
        "id": "PcOhXwNS9oYk"
      },
      "source": [
        "## 🔑 输入你的 API 密钥\n",
        "注册后，运行下一个单元格并点击链接获取你的 API 密钥以验证此笔记本。"
      ]
    },
    {
      "cell_type": "code",
      "execution_count": null,
      "metadata": {
        "id": "C-q1-iq49oYk"
      },
      "outputs": [],
      "source": [
        "import wandb"
      ]
    },
    {
      "cell_type": "code",
      "execution_count": null,
      "metadata": {
        "id": "CYVmW2Wy9oYk"
      },
      "outputs": [],
      "source": [
        "wandb.login()"
      ]
    },
    {
      "cell_type": "markdown",
      "metadata": {
        "id": "-o8BlPv-9oYk"
      },
      "source": [
        "可选地，我们可以设置环境变量以自定义 W&B 日志记录。查看 [文档](https://docs.wandb.com/library/integrations/huggingface)。"
      ]
    },
    {
      "cell_type": "code",
      "execution_count": null,
      "metadata": {
        "id": "Jtm_xsLV9oYk"
      },
      "outputs": [],
      "source": [
        "# 可选：记录梯度和参数\n",
        "%env WANDB_WATCH=all"
      ]
    },
    {
      "cell_type": "markdown",
      "metadata": {
        "id": "iV4jbue29oYk"
      },
      "source": [
        "# 👟 训练模型\n",
        "接下来，调用下载的训练脚本 [run_glue.py](https://huggingface.co/transformers/examples.html#glue)，并查看训练自动跟踪到 Weights & Biases 仪表盘。该脚本在 Microsoft Research Paraphrase Corpus 上微调 BERT——包含人类标注的句子对，指示它们是否语义等价。"
      ]
    },
    {
      "cell_type": "code",
      "execution_count": null,
      "metadata": {
        "id": "PKVLXvKO9oYk"
      },
      "outputs": [],
      "source": [
        "%env WANDB_PROJECT=huggingface-demo\n",
        "%env TASK_NAME=MRPC\n",
        "\n",
        "!python run_glue.py \\\n",
        "  --model_name_or_path bert-base-uncased \\\n",
        "  --task_name $TASK_NAME \\\n",
        "  --do_train \\\n",
        "  --do_eval \\\n",
        "  --max_seq_length 256 \\\n",
        "  --per_device_train_batch_size 32 \\\n",
        "  --learning_rate 2e-4 \\\n",
        "  --num_train_epochs 3 \\\n",
        "  --output_dir /tmp/$TASK_NAME/ \\\n",
        "  --overwrite_output_dir \\\n",
        "  --logging_steps 50"
      ]
    },
    {
      "cell_type": "markdown",
      "metadata": {
        "id": "TzEGVwby9oYk"
      },
      "source": [
        "# 👀 在仪表盘中可视化结果\n",
        "点击上面打印的链接，或访问 [wandb.ai](https://app.wandb.ai) 查看你的结果实时流入。浏览器中查看你的运行的链接将在所有依赖项加载后出现——查找以下输出：“**wandb**: 🚀 View run at [URL to your unique run]”\n",
        "\n",
        "**可视化模型性能**\n",
        "轻松查看数十个实验，放大有趣的发现，并可视化高维数据。\n",
        "\n",
        "![](https://gblobscdn.gitbook.com/assets%2F-Lqya5RvLedGEWPhtkjU%2F-M79Y5aLAFsMEcybMZcC%2F-M79YL90K1jiq-3jeQK-%2Fhf%20gif%2015.gif?alt=media&token=523d73f4-3f6c-499c-b7e8-ef5be0c10c2a)\n",
        "\n",
        "**比较架构**\n",
        "这是一个比较 [BERT vs DistilBERT](https://app.wandb.ai/jack-morris/david-vs-goliath/reports/Does-model-size-matter%3F-Comparing-BERT-and-DistilBERT-using-Sweeps--VmlldzoxMDUxNzU) 的示例——通过自动折线图可视化，可以轻松查看不同架构如何影响训练期间的评估准确性。\n",
        "![](https://gblobscdn.gitbook.com/assets%2F-Lqya5RvLedGEWPhtkjU%2F-M79Y5aLAFsMEcybMZcC%2F-M79Ytpj6q6Jlv9RKZGT%2Fgif%20for%20comparing%20bert.gif?alt=media&token=e3dee5de-d120-4330-b4bd-2e2ddbb8315e)\n"
      ]
    },
    {
      "cell_type": "markdown",
      "metadata": {
        "id": "fJr0adCS9oYk"
      },
      "source": [
        "\n",
        "### 📈 默认情况下轻松跟踪关键信息\n",
        "Weights & Biases 为每个实验保存一个新的运行。以下是默认保存的信息：\n",
        "- **超参数**：模型设置保存在 Config 中\n",
        "- **模型指标**：流式传输的指标时间序列数据保存在 Log 中\n",
        "- **终端日志**：命令行输出保存在选项卡中\n",
        "- **系统指标**：GPU 和 CPU 利用率、内存、温度等\n"
      ]
    },
    {
      "cell_type": "markdown",
      "metadata": {
        "id": "_Zr7RSrg9oYk"
      },
      "source": [
        "## 🤓 了解更多！\n",
        "- [文档](https://docs.wandb.com/huggingface)：Weights & Biases 和 Hugging Face 集成的文档\n",
        "- [视频](http://wandb.me/youtube)：教程、与从业者的访谈等，请访问我们的 YouTube 频道\n",
        "- 联系我们：如有问题，请发送邮件至 contact@wandb.com"
      ]
    }
  ],
  "metadata": {
    "accelerator": "GPU",
    "colab": {
      "provenance": [],
      "toc_visible": true
    },
    "kernelspec": {
      "display_name": "Python 3",
      "name": "python3"
    }
  },
  "nbformat": 4,
  "nbformat_minor": 0
}
